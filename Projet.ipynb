{
  "cells": [
    {
      "cell_type": "markdown",
      "metadata": {},
      "source": [
        "# Projet computer vision utilisant l'apprentissage contrastif"
      ]
    },
    {
      "cell_type": "markdown",
      "metadata": {},
      "source": [
        "On a comme support le cours ainsi qu'un article et le repo git associé.\n",
        "En particulier la partie 2.1 de l'article présente une bonne vue d'ensemble."
      ]
    },
    {
      "cell_type": "code",
      "execution_count": 24,
      "metadata": {},
      "outputs": [],
      "source": [
        "import os\n",
        "import PIL\n",
        "from PIL import Image\n",
        "import numpy as np\n",
        "import matplotlib.pyplot as plt\n",
        "from tensorflow.keras.layers import Conv2D, MaxPooling2D, GlobalAveragePooling2D\n",
        "from tensorflow.keras.layers import Dense, Flatten, Input\n",
        "from tensorflow.keras.models import Sequential, Model\n",
        "from tensorflow.keras import optimizers\n",
        "from tensorflow.keras import backend as K\n",
        "\n",
        "from contrastive_loss import contrastive_loss\n"
      ]
    },
    {
      "cell_type": "code",
      "execution_count": 2,
      "metadata": {
        "id": "dLt8kWC1kN6g"
      },
      "outputs": [
        {
          "name": "stdout",
          "output_type": "stream",
          "text": [
            "Cloning into 'projsemisup'...\n",
            "remote: Enumerating objects: 10798, done.\u001b[K\n",
            "remote: Counting objects: 100% (10798/10798), done.\u001b[K\n",
            "remote: Compressing objects: 100% (10798/10798), done.\u001b[K\n",
            "remote: Total 10798 (delta 0), reused 10798 (delta 0), pack-reused 0\n",
            "Receiving objects: 100% (10798/10798), 328.98 MiB | 2.46 MiB/s, done.\n",
            "Updating files: 100% (11563/11563), done.\n"
          ]
        }
      ],
      "source": [
        "!git clone https://github.com/axelcarlier/projsemisup.git\n",
        "path = \"./projsemisup/\""
      ]
    },
    {
      "cell_type": "code",
      "execution_count": 3,
      "metadata": {
        "id": "wJYO8vMRkn40"
      },
      "outputs": [
        {
          "name": "stdout",
          "output_type": "stream",
          "text": [
            "['red fox', 'gray wolf', 'snail', 'lizard', 'spider', 'turtle', 'hippopotamus', 'mosquito', 'crocodile', 'oyster', 'ant', 'american black bear', 'grizzly bear', 'chicken', 'beluga whale', 'humpback whale', 'tiger shark', 'dolphin', 'eagle', 'deer', 'parrot', 'falcon', 'snake', 'king penguin', 'giant panda', 'giraffe', 'donkey', 'sheep', 'salamander', 'wombat', 'bee', 'bat', 'rabbit', 'rooster', 'guinea pig', 'pig', 'goats', 'koala', 'gorilla', 'lion', 'tiger', 'leopard', 'jaguar', 'lynx', 'sea lion', 'great white shark', 'dog', 'elephant', 'cat', 'owl', 'squirrel', 'duck', 'frog', 'ibis', 'dairy cow', 'bull', 'horse', 'caterpillar', 'butterfly', 'chimpanzee', 'orangutan', 'kangaroo', 'camel', 'mouse', 'turkey', 'rhinoceros', 'baboon', 'moose', 'komodo dragon', 'okapi', 'antelope', 'ostrich', 'bison', 'water buffalo', 'beaver', 'hyena', 'swan', 'flamingo', 'hedgehog', 'raccoon', 'heron', 'lama', 'sea otter', 'macaque', 'peafowl', 'pelican', 'warthog', 'polecat', 'killer whale', 'wallaby', 'hare', 'ferret', 'magpie', 'sea turtle', 'tortoise']\n"
          ]
        }
      ],
      "source": [
        "import csv\n",
        "CLASSES = []\n",
        "with open(path + 'selected_classes.csv', newline='') as csvfile:\n",
        "\tfilereader = csv.reader(csvfile, delimiter=',', quotechar='\"')\n",
        "\tfor row in filereader:\n",
        "\t\tCLASSES.append(row[0])\n",
        "\n",
        "print(CLASSES)"
      ]
    },
    {
      "cell_type": "code",
      "execution_count": 4,
      "metadata": {
        "id": "C8Ry0cSc2kn4"
      },
      "outputs": [],
      "source": [
        "IMAGE_SIZE = 64"
      ]
    },
    {
      "cell_type": "code",
      "execution_count": 5,
      "metadata": {
        "id": "kdho3Bt4kiG7"
      },
      "outputs": [],
      "source": [
        "def load_semisup_data(path, classes, image_size=64):\n",
        "\n",
        "  file_path_lab = os.listdir(path + 'Lab/')\n",
        "  nb_lab = 475\n",
        "  # Initialise les structures de données\n",
        "  x_lab = np.zeros((nb_lab, image_size, image_size, 3))\n",
        "  y_lab = np.zeros((nb_lab, 1))\n",
        "  i = 0\n",
        "  for c in file_path_lab:\n",
        "\n",
        "    class_label = classes.index(c)\n",
        "    list_images = os.listdir(path + 'Lab/' + c + '/')\n",
        "\n",
        "    for img_name in list_images:\n",
        "      # Lecture de l'image\n",
        "      img = Image.open(path + 'Lab/' + c + '/' + img_name)\n",
        "      # Mise à l'échelle de l'image\n",
        "      img = img.resize((image_size,image_size), Image.ANTIALIAS)\n",
        "      # Remplissage de la variable x\n",
        "      x_lab[i] = np.asarray(img)\n",
        "      y_lab[i] = class_label\n",
        "      i = i + 1\n",
        "\n",
        "\n",
        "  file_path_test = os.listdir(path + 'Test/')\n",
        "  nb_test = 2850\n",
        "  # Initialise les structures de données\n",
        "  x_test = np.zeros((nb_test, image_size, image_size, 3))\n",
        "  y_test = np.zeros((nb_test, 1))\n",
        "  i = 0\n",
        "  for c in file_path_test:\n",
        "\n",
        "    class_label = classes.index(c)\n",
        "    list_images = os.listdir(path + 'Test/' + c + '/')\n",
        "\n",
        "    for img_name in list_images:\n",
        "      # Lecture de l'image\n",
        "      img = Image.open(path + 'Test/' + c + '/' + img_name)\n",
        "      # Mise à l'échelle de l'image\n",
        "      img = img.resize((image_size,image_size), Image.ANTIALIAS)\n",
        "      img = img.convert('RGB')\n",
        "      # Remplissage de la variable x\n",
        "      x_test[i] = np.asarray(img)\n",
        "      y_test[i] = class_label\n",
        "      i = i + 1\n",
        "\n",
        "\n",
        "  file_path_unlab = os.listdir(path + 'Unlab/')\n",
        "  nb_unlab = 8237\n",
        "  # Initialise les structures de données\n",
        "  x_unlab = np.zeros((nb_unlab, image_size, image_size, 3))\n",
        "\n",
        "  i = 0\n",
        "  for img_name in file_path_unlab:\n",
        "    # Lecture de l'image\n",
        "    img = Image.open(path + 'Unlab/' + img_name)\n",
        "    # Mise à l'échelle de l'image\n",
        "    img = img.resize((image_size,image_size), Image.ANTIALIAS)\n",
        "    img = img.convert('RGB')\n",
        "    # Remplissage de la variable x\n",
        "    x_unlab[i] = np.asarray(img)\n",
        "    i = i + 1\n",
        "\n",
        "  return x_lab, y_lab, x_unlab, x_test, y_test\n",
        "\n",
        "\n",
        "x_lab, y_lab, x_unlab, x_test, y_test = load_semisup_data(path, CLASSES, image_size=IMAGE_SIZE)"
      ]
    },
    {
      "cell_type": "code",
      "execution_count": 6,
      "metadata": {
        "id": "Hukak8wV-6Zf"
      },
      "outputs": [
        {
          "name": "stdout",
          "output_type": "stream",
          "text": [
            "(475, 64, 64, 3) (475, 1)\n",
            "(2850, 64, 64, 3) (2850, 1)\n",
            "(8237, 64, 64, 3)\n"
          ]
        }
      ],
      "source": [
        "print(x_lab.shape, y_lab.shape)\n",
        "print(x_test.shape, y_test.shape)\n",
        "print(x_unlab.shape)"
      ]
    },
    {
      "cell_type": "code",
      "execution_count": 6,
      "metadata": {
        "id": "9OEYaC-53jOW"
      },
      "outputs": [],
      "source": [
        "\n",
        "def plot_training_analysis():\n",
        "  acc = history.history['sparse_categorical_accuracy']\n",
        "  val_acc = history.history['val_sparse_categorical_accuracy']\n",
        "  loss = history.history['loss']\n",
        "  val_loss = history.history['val_loss']\n",
        "\n",
        "  epochs = range(len(acc))\n",
        "\n",
        "  plt.plot(epochs, acc, 'b', linestyle=\"--\",label='Training acc')\n",
        "  plt.plot(epochs, val_acc, 'g', label='Validation acc')\n",
        "  plt.title('Training and validation accuracy')\n",
        "  plt.legend()\n",
        "\n",
        "  plt.figure()\n",
        "\n",
        "  plt.plot(epochs, loss, 'b', linestyle=\"--\",label='Training loss')\n",
        "  plt.plot(epochs, val_loss,'g', label='Validation loss')\n",
        "  plt.title('Training and validation loss')\n",
        "  plt.legend()\n",
        "\n",
        "  plt.show()"
      ]
    },
    {
      "cell_type": "markdown",
      "metadata": {},
      "source": [
        "la loss contrastive est sur le github dans le fichier objective.py"
      ]
    },
    {
      "cell_type": "code",
      "execution_count": 17,
      "metadata": {
        "id": "ZiRHjZ8u2-I2"
      },
      "outputs": [
        {
          "name": "stdout",
          "output_type": "stream",
          "text": [
            "Model: \"encoder\"\n",
            "_________________________________________________________________\n",
            "Layer (type)                 Output Shape              Param #   \n",
            "=================================================================\n",
            "encoder_input (InputLayer)   [(None, 64, 64, 3)]       0         \n",
            "_________________________________________________________________\n",
            "conv2d_20 (Conv2D)           (None, 64, 64, 64)        1792      \n",
            "_________________________________________________________________\n",
            "max_pooling2d_20 (MaxPooling (None, 32, 32, 64)        0         \n",
            "_________________________________________________________________\n",
            "conv2d_21 (Conv2D)           (None, 32, 32, 128)       73856     \n",
            "_________________________________________________________________\n",
            "max_pooling2d_21 (MaxPooling (None, 16, 16, 128)       0         \n",
            "_________________________________________________________________\n",
            "conv2d_22 (Conv2D)           (None, 16, 16, 256)       295168    \n",
            "_________________________________________________________________\n",
            "max_pooling2d_22 (MaxPooling (None, 8, 8, 256)         0         \n",
            "_________________________________________________________________\n",
            "conv2d_23 (Conv2D)           (None, 8, 8, 256)         590080    \n",
            "_________________________________________________________________\n",
            "max_pooling2d_23 (MaxPooling (None, 4, 4, 256)         0         \n",
            "=================================================================\n",
            "Total params: 960,896\n",
            "Trainable params: 960,896\n",
            "Non-trainable params: 0\n",
            "_________________________________________________________________\n"
          ]
        }
      ],
      "source": [
        "inputs = Input(shape=(x_unlab.shape[1:]), name='encoder_input')\n",
        "\n",
        "x = Conv2D(64,(3,3),activation='relu', padding='same')(inputs)\n",
        "x = MaxPooling2D(pool_size=(2,2))(x)\n",
        "x = Conv2D(128,(3,3),activation='relu', padding='same')(x)\n",
        "x = (MaxPooling2D(pool_size=(2,2)))(x)\n",
        "x = Conv2D(256,(3,3),activation='relu', padding='same')(x)\n",
        "x = MaxPooling2D(pool_size=(2,2))(x)\n",
        "x = Conv2D(256,(3,3),activation='relu', padding='same')(x)\n",
        "h = MaxPooling2D(pool_size=(2,2))(x)\n",
        "\n",
        "encoder = Model(inputs, h, name='encoder')\n",
        "encoder.summary()"
      ]
    },
    {
      "cell_type": "code",
      "execution_count": 21,
      "metadata": {},
      "outputs": [
        {
          "name": "stdout",
          "output_type": "stream",
          "text": [
            "Model: \"projecteur\"\n",
            "_________________________________________________________________\n",
            "Layer (type)                 Output Shape              Param #   \n",
            "=================================================================\n",
            "projecteur_input (InputLayer [(None, 4, 4, 256)]       0         \n",
            "_________________________________________________________________\n",
            "global_average_pooling2d_4 ( (None, 256)               0         \n",
            "_________________________________________________________________\n",
            "dense_8 (Dense)              (None, 512)               131584    \n",
            "_________________________________________________________________\n",
            "dense_9 (Dense)              (None, 1024)              525312    \n",
            "=================================================================\n",
            "Total params: 656,896\n",
            "Trainable params: 656,896\n",
            "Non-trainable params: 0\n",
            "_________________________________________________________________\n"
          ]
        }
      ],
      "source": [
        "projecteur = Sequential(name=\"projecteur\")\n",
        "\n",
        "latent_inputs = Input(shape=(4,4,256), name='projecteur_input')\n",
        "latent = GlobalAveragePooling2D()(latent_inputs)\n",
        "latent = Dense(512, activation=\"relu\")(latent)\n",
        "z = Dense(1024, activation=\"linear\")(latent)\n",
        "\n",
        "projecteur = Model(latent_inputs, z, name='projecteur')\n",
        "projecteur.summary()"
      ]
    },
    {
      "cell_type": "code",
      "execution_count": 23,
      "metadata": {},
      "outputs": [
        {
          "name": "stdout",
          "output_type": "stream",
          "text": [
            "Model: \"SimCLR\"\n",
            "_________________________________________________________________\n",
            "Layer (type)                 Output Shape              Param #   \n",
            "=================================================================\n",
            "encoder_input (InputLayer)   [(None, 64, 64, 3)]       0         \n",
            "_________________________________________________________________\n",
            "encoder (Functional)         (None, 4, 4, 256)         960896    \n",
            "_________________________________________________________________\n",
            "projecteur (Functional)      (None, 1024)              656896    \n",
            "=================================================================\n",
            "Total params: 1,617,792\n",
            "Trainable params: 1,617,792\n",
            "Non-trainable params: 0\n",
            "_________________________________________________________________\n"
          ]
        }
      ],
      "source": [
        "outputs = projecteur(encoder(inputs))\n",
        "model = Model(inputs, outputs, name='SimCLR')\n",
        "model.summary()"
      ]
    },
    {
      "cell_type": "code",
      "execution_count": null,
      "metadata": {},
      "outputs": [],
      "source": [
        "model.add_loss(contrastive_loss)\n",
        "\n",
        "\n",
        "\n",
        "\n",
        "encoder.compile(loss='sparse_categorical_crossentropy',\n",
        "              optimizer=optimizers.Adam(learning_rate=3e-4),\n",
        "              metrics=['sparse_categorical_accuracy'])\n",
        "history = encoder.fit(x_lab, y_lab, validation_data=(x_test, y_test), epochs=30, batch_size=10)"
      ]
    },
    {
      "cell_type": "code",
      "execution_count": null,
      "metadata": {
        "id": "_ftbxVrCIogu"
      },
      "outputs": [],
      "source": [
        "plot_training_analysis()"
      ]
    }
  ],
  "metadata": {
    "colab": {
      "collapsed_sections": [],
      "name": "Projet.ipynb",
      "provenance": []
    },
    "kernelspec": {
      "display_name": "Python 3",
      "name": "python3"
    },
    "language_info": {
      "codemirror_mode": {
        "name": "ipython",
        "version": 3
      },
      "file_extension": ".py",
      "mimetype": "text/x-python",
      "name": "python",
      "nbconvert_exporter": "python",
      "pygments_lexer": "ipython3",
      "version": "3.8.5"
    }
  },
  "nbformat": 4,
  "nbformat_minor": 0
}
