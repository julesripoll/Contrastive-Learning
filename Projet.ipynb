{
  "cells": [
    {
      "cell_type": "markdown",
      "metadata": {},
      "source": [
        "# Projet computer vision utilisant l'apprentissage contrastif"
      ]
    },
    {
      "cell_type": "markdown",
      "metadata": {},
      "source": [
        "On a comme support le cours ainsi qu'un article et le repo git associé.\n",
        "En particulier la partie 2.1 de l'article présente une bonne vue d'ensemble."
      ]
    },
    {
      "cell_type": "code",
      "execution_count": 1,
      "metadata": {},
      "outputs": [],
      "source": [
        "import os\n",
        "import PIL\n",
        "from PIL import Image\n",
        "import numpy as np\n",
        "import matplotlib.pyplot as plt\n",
        "from tensorflow.keras.layers import Conv2D, MaxPooling2D\n",
        "from tensorflow.keras.layers import Dense, Flatten\n",
        "from tensorflow.keras.models import Sequential\n",
        "from tensorflow.keras import optimizers\n",
        "from tensorflow.keras import backend as K\n"
      ]
    },
    {
      "cell_type": "code",
      "execution_count": 2,
      "metadata": {
        "id": "dLt8kWC1kN6g"
      },
      "outputs": [
        {
          "name": "stdout",
          "output_type": "stream",
          "text": [
            "fatal: destination path 'projsemisup' already exists and is not an empty directory.\n"
          ]
        }
      ],
      "source": [
        "!git clone https://github.com/axelcarlier/projsemisup.git\n",
        "path = \"./projsemisup/\""
      ]
    },
    {
      "cell_type": "code",
      "execution_count": 3,
      "metadata": {
        "id": "wJYO8vMRkn40"
      },
      "outputs": [
        {
          "name": "stdout",
          "output_type": "stream",
          "text": [
            "['red fox', 'gray wolf', 'snail', 'lizard', 'spider', 'turtle', 'hippopotamus', 'mosquito', 'crocodile', 'oyster', 'ant', 'american black bear', 'grizzly bear', 'chicken', 'beluga whale', 'humpback whale', 'tiger shark', 'dolphin', 'eagle', 'deer', 'parrot', 'falcon', 'snake', 'king penguin', 'giant panda', 'giraffe', 'donkey', 'sheep', 'salamander', 'wombat', 'bee', 'bat', 'rabbit', 'rooster', 'guinea pig', 'pig', 'goats', 'koala', 'gorilla', 'lion', 'tiger', 'leopard', 'jaguar', 'lynx', 'sea lion', 'great white shark', 'dog', 'elephant', 'cat', 'owl', 'squirrel', 'duck', 'frog', 'ibis', 'dairy cow', 'bull', 'horse', 'caterpillar', 'butterfly', 'chimpanzee', 'orangutan', 'kangaroo', 'camel', 'mouse', 'turkey', 'rhinoceros', 'baboon', 'moose', 'komodo dragon', 'okapi', 'antelope', 'ostrich', 'bison', 'water buffalo', 'beaver', 'hyena', 'swan', 'flamingo', 'hedgehog', 'raccoon', 'heron', 'lama', 'sea otter', 'macaque', 'peafowl', 'pelican', 'warthog', 'polecat', 'killer whale', 'wallaby', 'hare', 'ferret', 'magpie', 'sea turtle', 'tortoise']\n"
          ]
        }
      ],
      "source": [
        "import csv\n",
        "CLASSES = []\n",
        "with open(path + 'selected_classes.csv', newline='') as csvfile:\n",
        "\tfilereader = csv.reader(csvfile, delimiter=',', quotechar='\"')\n",
        "\tfor row in filereader:\n",
        "\t\tCLASSES.append(row[0])\n",
        "\n",
        "print(CLASSES)"
      ]
    },
    {
      "cell_type": "code",
      "execution_count": 4,
      "metadata": {
        "id": "C8Ry0cSc2kn4"
      },
      "outputs": [],
      "source": [
        "IMAGE_SIZE = 64"
      ]
    },
    {
      "cell_type": "code",
      "execution_count": 5,
      "metadata": {
        "id": "kdho3Bt4kiG7"
      },
      "outputs": [],
      "source": [
        "\n",
        "\n",
        "def load_semisup_data(path, classes, image_size=64):\n",
        "\n",
        "  file_path_lab = os.listdir(path + 'Lab/')\n",
        "  nb_lab = 475\n",
        "  # Initialise les structures de données\n",
        "  x_lab = np.zeros((nb_lab, image_size, image_size, 3))\n",
        "  y_lab = np.zeros((nb_lab, 1))\n",
        "  i = 0\n",
        "  for c in file_path_lab:\n",
        "\n",
        "    class_label = classes.index(c)\n",
        "    list_images = os.listdir(path + 'Lab/' + c + '/')\n",
        "\n",
        "    for img_name in list_images:\n",
        "      # Lecture de l'image\n",
        "      img = Image.open(path + 'Lab/' + c + '/' + img_name)\n",
        "      # Mise à l'échelle de l'image\n",
        "      img = img.resize((image_size,image_size), Image.ANTIALIAS)\n",
        "      # Remplissage de la variable x\n",
        "      x_lab[i] = np.asarray(img)\n",
        "      y_lab[i] = class_label\n",
        "      i = i + 1\n",
        "\n",
        "\n",
        "  file_path_test = os.listdir(path + 'Test/')\n",
        "  nb_test = 2850\n",
        "  # Initialise les structures de données\n",
        "  x_test = np.zeros((nb_test, image_size, image_size, 3))\n",
        "  y_test = np.zeros((nb_test, 1))\n",
        "  i = 0\n",
        "  for c in file_path_test:\n",
        "\n",
        "    class_label = classes.index(c)\n",
        "    list_images = os.listdir(path + 'Test/' + c + '/')\n",
        "\n",
        "    for img_name in list_images:\n",
        "      # Lecture de l'image\n",
        "      img = Image.open(path + 'Test/' + c + '/' + img_name)\n",
        "      # Mise à l'échelle de l'image\n",
        "      img = img.resize((image_size,image_size), Image.ANTIALIAS)\n",
        "      img = img.convert('RGB')\n",
        "      # Remplissage de la variable x\n",
        "      x_test[i] = np.asarray(img)\n",
        "      y_test[i] = class_label\n",
        "      i = i + 1\n",
        "\n",
        "\n",
        "  file_path_unlab = os.listdir(path + 'Unlab/')\n",
        "  nb_unlab = 8237\n",
        "  # Initialise les structures de données\n",
        "  x_unlab = np.zeros((nb_unlab, image_size, image_size, 3))\n",
        "\n",
        "  i = 0\n",
        "  for img_name in file_path_unlab:\n",
        "    # Lecture de l'image\n",
        "    img = Image.open(path + 'Unlab/' + img_name)\n",
        "    # Mise à l'échelle de l'image\n",
        "    img = img.resize((image_size,image_size), Image.ANTIALIAS)\n",
        "    img = img.convert('RGB')\n",
        "    # Remplissage de la variable x\n",
        "    x_unlab[i] = np.asarray(img)\n",
        "    i = i + 1\n",
        "\n",
        "  return x_lab, y_lab, x_unlab, x_test, y_test\n",
        "\n",
        "\n",
        "x_lab, y_lab, x_unlab, x_test, y_test = load_semisup_data(path, CLASSES, image_size=IMAGE_SIZE)\n"
      ]
    },
    {
      "cell_type": "code",
      "execution_count": 6,
      "metadata": {
        "id": "Hukak8wV-6Zf"
      },
      "outputs": [
        {
          "name": "stdout",
          "output_type": "stream",
          "text": [
            "(475, 64, 64, 3) (475, 1)\n",
            "(2850, 64, 64, 3) (2850, 1)\n",
            "(8237, 64, 64, 3)\n"
          ]
        }
      ],
      "source": [
        "print(x_lab.shape, y_lab.shape)\n",
        "print(x_test.shape, y_test.shape)\n",
        "print(x_unlab.shape)"
      ]
    },
    {
      "cell_type": "code",
      "execution_count": 7,
      "metadata": {
        "id": "9OEYaC-53jOW"
      },
      "outputs": [],
      "source": [
        "\n",
        "def plot_training_analysis():\n",
        "  acc = history.history['sparse_categorical_accuracy']\n",
        "  val_acc = history.history['val_sparse_categorical_accuracy']\n",
        "  loss = history.history['loss']\n",
        "  val_loss = history.history['val_loss']\n",
        "\n",
        "  epochs = range(len(acc))\n",
        "\n",
        "  plt.plot(epochs, acc, 'b', linestyle=\"--\",label='Training acc')\n",
        "  plt.plot(epochs, val_acc, 'g', label='Validation acc')\n",
        "  plt.title('Training and validation accuracy')\n",
        "  plt.legend()\n",
        "\n",
        "  plt.figure()\n",
        "\n",
        "  plt.plot(epochs, loss, 'b', linestyle=\"--\",label='Training loss')\n",
        "  plt.plot(epochs, val_loss,'g', label='Validation loss')\n",
        "  plt.title('Training and validation loss')\n",
        "  plt.legend()\n",
        "\n",
        "  plt.show()"
      ]
    },
    {
      "cell_type": "markdown",
      "metadata": {},
      "source": [
        "la loss contrastive est sur le github dans le fichier objective.py"
      ]
    },
    {
      "cell_type": "code",
      "execution_count": 9,
      "metadata": {},
      "outputs": [
        {
          "ename": "NameError",
          "evalue": "name 'batch_size' is not defined",
          "output_type": "error",
          "traceback": [
            "\u001b[0;31m---------------------------------------------------------------------------\u001b[0m",
            "\u001b[0;31mNameError\u001b[0m                                 Traceback (most recent call last)",
            "\u001b[0;32m/var/folders/m5/fmqv_xd90yl3cvjwnb_nv8qc0000gn/T/ipykernel_37769/3571964799.py\u001b[0m in \u001b[0;36m<module>\u001b[0;34m\u001b[0m\n\u001b[0;32m----> 1\u001b[0;31m \u001b[0;32mdef\u001b[0m \u001b[0mcontrast_loss\u001b[0m\u001b[0;34m(\u001b[0m\u001b[0mtau\u001b[0m\u001b[0;34m=\u001b[0m\u001b[0;36m10\u001b[0m\u001b[0;34m,\u001b[0m \u001b[0mN\u001b[0m\u001b[0;34m=\u001b[0m\u001b[0mbatch_size\u001b[0m\u001b[0;34m)\u001b[0m\u001b[0;34m:\u001b[0m\u001b[0;34m\u001b[0m\u001b[0;34m\u001b[0m\u001b[0m\n\u001b[0m\u001b[1;32m      2\u001b[0m     \"\"\"\n\u001b[1;32m      3\u001b[0m     \u001b[0mcette\u001b[0m \u001b[0mloss\u001b[0m \u001b[0mprend\u001b[0m \u001b[0mun\u001b[0m \u001b[0mbatch\u001b[0m \u001b[0mde\u001b[0m \u001b[0mtaille\u001b[0m \u001b[0mN\u001b[0m \u001b[0met\u001b[0m \u001b[0mcalcule\u001b[0m \u001b[0mdes\u001b[0m \u001b[0msimilarités\u001b[0m \u001b[0mentre\u001b[0m \u001b[0mles\u001b[0m \u001b[0méléments\u001b[0m \u001b[0mdu\u001b[0m \u001b[0mbatch\u001b[0m\u001b[0;34m.\u001b[0m \u001b[0mL\u001b[0m\u001b[0;34m'idée est de rapprocher les éléments qu'\u001b[0m\u001b[0mon\u001b[0m \u001b[0msait\u001b[0m \u001b[0mêtre\u001b[0m \u001b[0mde\u001b[0m \u001b[0mla\u001b[0m \u001b[0mmême\u001b[0m \u001b[0mclasse\u001b[0m \u001b[0met\u001b[0m \u001b[0méloigner\u001b[0m\u001b[0;34m\u001b[0m\u001b[0;34m\u001b[0m\u001b[0m\n\u001b[1;32m      4\u001b[0m     \u001b[0mceux\u001b[0m \u001b[0mqui\u001b[0m \u001b[0msont\u001b[0m \u001b[0mdifférents\u001b[0m\u001b[0;34m.\u001b[0m \u001b[0mNotion\u001b[0m \u001b[0mde\u001b[0m \u001b[0mcontraste\u001b[0m\u001b[0;34m.\u001b[0m\u001b[0;34m\u001b[0m\u001b[0;34m\u001b[0m\u001b[0m\n\u001b[1;32m      5\u001b[0m     \"\"\"\n",
            "\u001b[0;31mNameError\u001b[0m: name 'batch_size' is not defined"
          ]
        }
      ],
      "source": [
        "def contrast_loss(tau=10, N=batch_size):\n",
        "    \"\"\"\n",
        "    cette loss prend un batch de taille N et calcule des similarités entre les éléments du batch. L'idée est de rapprocher les éléments qu'on sait être de la même classe et éloigner\n",
        "    ceux qui sont différents. Notion de contraste.\n",
        "    \"\"\"\n",
        "    for k in range(0,N):\n",
        "        pass"
      ]
    },
    {
      "cell_type": "code",
      "execution_count": 10,
      "metadata": {
        "id": "ZiRHjZ8u2-I2"
      },
      "outputs": [
        {
          "name": "stderr",
          "output_type": "stream",
          "text": [
            "2022-04-01 16:40:33.721590: I tensorflow/core/common_runtime/pluggable_device/pluggable_device_factory.cc:305] Could not identify NUMA node of platform GPU ID 0, defaulting to 0. Your kernel may not have been built with NUMA support.\n",
            "2022-04-01 16:40:33.723037: I tensorflow/core/common_runtime/pluggable_device/pluggable_device_factory.cc:271] Created TensorFlow device (/job:localhost/replica:0/task:0/device:GPU:0 with 0 MB memory) -> physical PluggableDevice (device: 0, name: METAL, pci bus id: <undefined>)\n"
          ]
        },
        {
          "name": "stdout",
          "output_type": "stream",
          "text": [
            "Metal device set to: Apple M1\n",
            "\n",
            "systemMemory: 8.00 GB\n",
            "maxCacheSize: 2.67 GB\n",
            "\n",
            "Model: \"sequential\"\n",
            "_________________________________________________________________\n",
            " Layer (type)                Output Shape              Param #   \n",
            "=================================================================\n",
            " conv2d (Conv2D)             (None, 64, 64, 64)        1792      \n",
            "                                                                 \n",
            " max_pooling2d (MaxPooling2D  (None, 32, 32, 64)       0         \n",
            " )                                                               \n",
            "                                                                 \n",
            " conv2d_1 (Conv2D)           (None, 32, 32, 128)       73856     \n",
            "                                                                 \n",
            " max_pooling2d_1 (MaxPooling  (None, 16, 16, 128)      0         \n",
            " 2D)                                                             \n",
            "                                                                 \n",
            " conv2d_2 (Conv2D)           (None, 16, 16, 256)       295168    \n",
            "                                                                 \n",
            " max_pooling2d_2 (MaxPooling  (None, 8, 8, 256)        0         \n",
            " 2D)                                                             \n",
            "                                                                 \n",
            " conv2d_3 (Conv2D)           (None, 8, 8, 256)         590080    \n",
            "                                                                 \n",
            " max_pooling2d_3 (MaxPooling  (None, 4, 4, 256)        0         \n",
            " 2D)                                                             \n",
            "                                                                 \n",
            " flatten (Flatten)           (None, 4096)              0         \n",
            "                                                                 \n",
            " dense (Dense)               (None, 512)               2097664   \n",
            "                                                                 \n",
            " dense_1 (Dense)             (None, 95)                48735     \n",
            "                                                                 \n",
            "=================================================================\n",
            "Total params: 3,107,295\n",
            "Trainable params: 3,107,295\n",
            "Non-trainable params: 0\n",
            "_________________________________________________________________\n"
          ]
        },
        {
          "name": "stderr",
          "output_type": "stream",
          "text": [
            "2022-04-01 16:40:33.956419: W tensorflow/core/platform/profile_utils/cpu_utils.cc:128] Failed to get CPU frequency: 0 Hz\n",
            "2022-04-01 16:40:34.136624: I tensorflow/core/grappler/optimizers/custom_graph_optimizer_registry.cc:112] Plugin optimizer for device_type GPU is enabled.\n"
          ]
        },
        {
          "name": "stdout",
          "output_type": "stream",
          "text": [
            "Epoch 1/30\n",
            "48/48 [==============================] - ETA: 0s - loss: 9.0037 - sparse_categorical_accuracy: 0.0189"
          ]
        },
        {
          "name": "stderr",
          "output_type": "stream",
          "text": [
            "2022-04-01 16:40:35.948537: I tensorflow/core/grappler/optimizers/custom_graph_optimizer_registry.cc:112] Plugin optimizer for device_type GPU is enabled.\n"
          ]
        },
        {
          "name": "stdout",
          "output_type": "stream",
          "text": [
            "48/48 [==============================] - 4s 80ms/step - loss: 9.0037 - sparse_categorical_accuracy: 0.0189 - val_loss: 4.5657 - val_sparse_categorical_accuracy: 0.0123\n",
            "Epoch 2/30\n",
            "48/48 [==============================] - 3s 73ms/step - loss: 4.4573 - sparse_categorical_accuracy: 0.0274 - val_loss: 4.4705 - val_sparse_categorical_accuracy: 0.0368\n",
            "Epoch 3/30\n",
            "48/48 [==============================] - 3s 67ms/step - loss: 4.2005 - sparse_categorical_accuracy: 0.0800 - val_loss: 4.5527 - val_sparse_categorical_accuracy: 0.0351\n",
            "Epoch 4/30\n",
            "48/48 [==============================] - 3s 68ms/step - loss: 3.7887 - sparse_categorical_accuracy: 0.1368 - val_loss: 4.6368 - val_sparse_categorical_accuracy: 0.0505\n",
            "Epoch 5/30\n",
            "48/48 [==============================] - 3s 67ms/step - loss: 3.1388 - sparse_categorical_accuracy: 0.2842 - val_loss: 4.7939 - val_sparse_categorical_accuracy: 0.0484\n",
            "Epoch 6/30\n",
            "48/48 [==============================] - 3s 67ms/step - loss: 2.2855 - sparse_categorical_accuracy: 0.4379 - val_loss: 5.7456 - val_sparse_categorical_accuracy: 0.0460\n",
            "Epoch 7/30\n",
            "48/48 [==============================] - 3s 68ms/step - loss: 1.6229 - sparse_categorical_accuracy: 0.6168 - val_loss: 6.3467 - val_sparse_categorical_accuracy: 0.0565\n",
            "Epoch 8/30\n",
            "48/48 [==============================] - 3s 68ms/step - loss: 1.1450 - sparse_categorical_accuracy: 0.7263 - val_loss: 7.0850 - val_sparse_categorical_accuracy: 0.0526\n",
            "Epoch 9/30\n",
            "48/48 [==============================] - 3s 72ms/step - loss: 0.6102 - sparse_categorical_accuracy: 0.8337 - val_loss: 8.2093 - val_sparse_categorical_accuracy: 0.0463\n",
            "Epoch 10/30\n",
            "48/48 [==============================] - 4s 75ms/step - loss: 0.3350 - sparse_categorical_accuracy: 0.9158 - val_loss: 9.8573 - val_sparse_categorical_accuracy: 0.0607\n",
            "Epoch 11/30\n",
            "48/48 [==============================] - 4s 81ms/step - loss: 0.4535 - sparse_categorical_accuracy: 0.8968 - val_loss: 7.9835 - val_sparse_categorical_accuracy: 0.0575\n",
            "Epoch 12/30\n",
            "48/48 [==============================] - 4s 78ms/step - loss: 0.4143 - sparse_categorical_accuracy: 0.8968 - val_loss: 9.1475 - val_sparse_categorical_accuracy: 0.0530\n",
            "Epoch 13/30\n",
            "48/48 [==============================] - 4s 81ms/step - loss: 0.2488 - sparse_categorical_accuracy: 0.9642 - val_loss: 8.8693 - val_sparse_categorical_accuracy: 0.0646\n",
            "Epoch 14/30\n",
            "48/48 [==============================] - 3s 69ms/step - loss: 0.0956 - sparse_categorical_accuracy: 0.9789 - val_loss: 10.2052 - val_sparse_categorical_accuracy: 0.0611\n",
            "Epoch 15/30\n",
            "48/48 [==============================] - 3s 68ms/step - loss: 0.1002 - sparse_categorical_accuracy: 0.9789 - val_loss: 9.7035 - val_sparse_categorical_accuracy: 0.0530\n",
            "Epoch 16/30\n",
            "48/48 [==============================] - 3s 69ms/step - loss: 0.1217 - sparse_categorical_accuracy: 0.9916 - val_loss: 9.3372 - val_sparse_categorical_accuracy: 0.0593\n",
            "Epoch 17/30\n",
            "48/48 [==============================] - 3s 68ms/step - loss: 0.0110 - sparse_categorical_accuracy: 0.9958 - val_loss: 9.8673 - val_sparse_categorical_accuracy: 0.0604\n",
            "Epoch 18/30\n",
            "48/48 [==============================] - 3s 67ms/step - loss: 0.0352 - sparse_categorical_accuracy: 0.9874 - val_loss: 10.3572 - val_sparse_categorical_accuracy: 0.0656\n",
            "Epoch 19/30\n",
            "48/48 [==============================] - 3s 67ms/step - loss: 0.0118 - sparse_categorical_accuracy: 0.9979 - val_loss: 11.0849 - val_sparse_categorical_accuracy: 0.0565\n",
            "Epoch 20/30\n",
            "48/48 [==============================] - 3s 67ms/step - loss: 0.0015 - sparse_categorical_accuracy: 1.0000 - val_loss: 10.4993 - val_sparse_categorical_accuracy: 0.0649\n",
            "Epoch 21/30\n",
            "48/48 [==============================] - 3s 67ms/step - loss: 6.1464e-04 - sparse_categorical_accuracy: 1.0000 - val_loss: 10.6699 - val_sparse_categorical_accuracy: 0.0646\n",
            "Epoch 22/30\n",
            "48/48 [==============================] - 3s 67ms/step - loss: 4.4212e-04 - sparse_categorical_accuracy: 1.0000 - val_loss: 10.7746 - val_sparse_categorical_accuracy: 0.0649\n",
            "Epoch 23/30\n",
            "48/48 [==============================] - 3s 68ms/step - loss: 3.5720e-04 - sparse_categorical_accuracy: 1.0000 - val_loss: 10.8561 - val_sparse_categorical_accuracy: 0.0660\n",
            "Epoch 24/30\n",
            "48/48 [==============================] - 3s 67ms/step - loss: 2.9954e-04 - sparse_categorical_accuracy: 1.0000 - val_loss: 10.9317 - val_sparse_categorical_accuracy: 0.0660\n",
            "Epoch 25/30\n",
            "48/48 [==============================] - 3s 67ms/step - loss: 2.6291e-04 - sparse_categorical_accuracy: 1.0000 - val_loss: 10.9944 - val_sparse_categorical_accuracy: 0.0660\n",
            "Epoch 26/30\n",
            "48/48 [==============================] - 3s 73ms/step - loss: 2.3504e-04 - sparse_categorical_accuracy: 1.0000 - val_loss: 11.0473 - val_sparse_categorical_accuracy: 0.0660\n",
            "Epoch 27/30\n",
            "48/48 [==============================] - 3s 68ms/step - loss: 2.0244e-04 - sparse_categorical_accuracy: 1.0000 - val_loss: 11.0986 - val_sparse_categorical_accuracy: 0.0663\n",
            "Epoch 28/30\n",
            "48/48 [==============================] - 3s 69ms/step - loss: 1.8084e-04 - sparse_categorical_accuracy: 1.0000 - val_loss: 11.1443 - val_sparse_categorical_accuracy: 0.0663\n",
            "Epoch 29/30\n",
            "48/48 [==============================] - 3s 68ms/step - loss: 1.6479e-04 - sparse_categorical_accuracy: 1.0000 - val_loss: 11.1952 - val_sparse_categorical_accuracy: 0.0667\n",
            "Epoch 30/30\n",
            "48/48 [==============================] - 3s 67ms/step - loss: 1.5116e-04 - sparse_categorical_accuracy: 1.0000 - val_loss: 11.2363 - val_sparse_categorical_accuracy: 0.0660\n"
          ]
        }
      ],
      "source": [
        "\n",
        "\n",
        "encoder = Sequential()\n",
        "\n",
        "encoder.add(Conv2D(64,(3,3),input_shape=(IMAGE_SIZE,IMAGE_SIZE,3),activation='relu', padding='same'))\n",
        "encoder.add(MaxPooling2D(pool_size=(2,2)))\n",
        "encoder.add(Conv2D(128,(3,3),activation='relu', padding='same'))\n",
        "encoder.add(MaxPooling2D(pool_size=(2,2)))\n",
        "encoder.add(Conv2D(256,(3,3),activation='relu', padding='same'))\n",
        "encoder.add(MaxPooling2D(pool_size=(2,2)))\n",
        "encoder.add(Conv2D(256,(3,3),activation='relu', padding='same'))\n",
        "encoder.add(MaxPooling2D(pool_size=(2,2)))\n",
        "encoder.add(Flatten())\n",
        "encoder.add(Dense(512,activation='relu'))\n",
        "encoder.add(Dense(95,activation='softmax'))\n",
        "\n",
        "encoder.summary()\n",
        "\n",
        "encoder.compile(loss='sparse_categorical_crossentropy',\n",
        "              optimizer=optimizers.Adam(learning_rate=3e-4),\n",
        "              metrics=['sparse_categorical_accuracy'])\n",
        "history = encoder.fit(x_lab, y_lab, validation_data=(x_test, y_test), epochs=30, batch_size=10)"
      ]
    },
    {
      "cell_type": "code",
      "execution_count": null,
      "metadata": {
        "id": "_ftbxVrCIogu"
      },
      "outputs": [],
      "source": [
        "plot_training_analysis()"
      ]
    }
  ],
  "metadata": {
    "colab": {
      "collapsed_sections": [],
      "name": "Projet.ipynb",
      "provenance": []
    },
    "kernelspec": {
      "display_name": "Python 3",
      "name": "python3"
    },
    "language_info": {
      "codemirror_mode": {
        "name": "ipython",
        "version": 3
      },
      "file_extension": ".py",
      "mimetype": "text/x-python",
      "name": "python",
      "nbconvert_exporter": "python",
      "pygments_lexer": "ipython3",
      "version": "3.8.12"
    }
  },
  "nbformat": 4,
  "nbformat_minor": 0
}
